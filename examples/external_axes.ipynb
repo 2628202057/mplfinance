{
 "cells": [
  {
   "cell_type": "markdown",
   "metadata": {},
   "source": [
    "---\n",
    "\n",
    "# How to use your own `matplotlib` `Figure` and `Axes` in `mplfinance`\n",
    "\n",
    "---\n",
    "\n",
    "### &bull; Using your own `matplotlib` `Figure` and `Axes` makes your code more complex,<br>&nbsp;&nbsp; compared to direct use of `mplfinance`,<br>&nbsp;&nbsp; but it provides all the power and flexibility of `matplotlib`<br>&nbsp;&nbsp; for those who know how and want to use it.\n",
    "- When you pass a `matplotbib` `Axes` into `mplfinance`,<br>&nbsp;&nbsp; we say that `mplfinance` is in **External Axes Mode.**  \n",
    "- Certain `mplfinance` features may be not available,<br>&nbsp;&nbsp; or may behave differently, when in External Axes Mode (see below for details).\n",
    "\n",
    "---"
   ]
  },
  {
   "cell_type": "code",
   "execution_count": 1,
   "metadata": {},
   "outputs": [],
   "source": [
    "# This allows multiple outputs from a single jupyter notebook cell:\n",
    "from IPython.core.interactiveshell import InteractiveShell\n",
    "InteractiveShell.ast_node_interactivity = \"all\"\n",
    "#InteractiveShell.colors = 'LightBG'"
   ]
  },
  {
   "cell_type": "code",
   "execution_count": 2,
   "metadata": {},
   "outputs": [],
   "source": [
    "%matplotlib inline\n",
    "import pandas as pd"
   ]
  },
  {
   "cell_type": "code",
   "execution_count": 3,
   "metadata": {},
   "outputs": [
    {
     "data": {
      "text/plain": [
       "(252, 9)"
      ]
     },
     "execution_count": 3,
     "metadata": {},
     "output_type": "execute_result"
    },
    {
     "data": {
      "text/html": [
       "<div>\n",
       "<style scoped>\n",
       "    .dataframe tbody tr th:only-of-type {\n",
       "        vertical-align: middle;\n",
       "    }\n",
       "\n",
       "    .dataframe tbody tr th {\n",
       "        vertical-align: top;\n",
       "    }\n",
       "\n",
       "    .dataframe thead th {\n",
       "        text-align: right;\n",
       "    }\n",
       "</style>\n",
       "<table border=\"1\" class=\"dataframe\">\n",
       "  <thead>\n",
       "    <tr style=\"text-align: right;\">\n",
       "      <th></th>\n",
       "      <th>Open</th>\n",
       "      <th>High</th>\n",
       "      <th>Low</th>\n",
       "      <th>Close</th>\n",
       "      <th>Adj Close</th>\n",
       "      <th>Volume</th>\n",
       "      <th>UpperB</th>\n",
       "      <th>LowerB</th>\n",
       "      <th>PercentB</th>\n",
       "    </tr>\n",
       "    <tr>\n",
       "      <th>Date</th>\n",
       "      <th></th>\n",
       "      <th></th>\n",
       "      <th></th>\n",
       "      <th></th>\n",
       "      <th></th>\n",
       "      <th></th>\n",
       "      <th></th>\n",
       "      <th></th>\n",
       "      <th></th>\n",
       "    </tr>\n",
       "  </thead>\n",
       "  <tbody>\n",
       "    <tr>\n",
       "      <th>2011-07-01</th>\n",
       "      <td>132.089996</td>\n",
       "      <td>134.100006</td>\n",
       "      <td>131.779999</td>\n",
       "      <td>133.919998</td>\n",
       "      <td>117.161659</td>\n",
       "      <td>202385700</td>\n",
       "      <td>132.373927</td>\n",
       "      <td>125.316073</td>\n",
       "      <td>1.219057</td>\n",
       "    </tr>\n",
       "    <tr>\n",
       "      <th>2011-07-05</th>\n",
       "      <td>133.779999</td>\n",
       "      <td>134.080002</td>\n",
       "      <td>133.389999</td>\n",
       "      <td>133.809998</td>\n",
       "      <td>117.065437</td>\n",
       "      <td>165936000</td>\n",
       "      <td>133.254297</td>\n",
       "      <td>124.912703</td>\n",
       "      <td>1.066618</td>\n",
       "    </tr>\n",
       "    <tr>\n",
       "      <th>2011-07-06</th>\n",
       "      <td>133.490005</td>\n",
       "      <td>134.139999</td>\n",
       "      <td>133.110001</td>\n",
       "      <td>133.970001</td>\n",
       "      <td>117.205429</td>\n",
       "      <td>143331600</td>\n",
       "      <td>134.040915</td>\n",
       "      <td>124.627085</td>\n",
       "      <td>0.992467</td>\n",
       "    </tr>\n",
       "  </tbody>\n",
       "</table>\n",
       "</div>"
      ],
      "text/plain": [
       "                  Open        High         Low       Close   Adj Close  \\\n",
       "Date                                                                     \n",
       "2011-07-01  132.089996  134.100006  131.779999  133.919998  117.161659   \n",
       "2011-07-05  133.779999  134.080002  133.389999  133.809998  117.065437   \n",
       "2011-07-06  133.490005  134.139999  133.110001  133.970001  117.205429   \n",
       "\n",
       "               Volume      UpperB      LowerB  PercentB  \n",
       "Date                                                     \n",
       "2011-07-01  202385700  132.373927  125.316073  1.219057  \n",
       "2011-07-05  165936000  133.254297  124.912703  1.066618  \n",
       "2011-07-06  143331600  134.040915  124.627085  0.992467  "
      ]
     },
     "execution_count": 3,
     "metadata": {},
     "output_type": "execute_result"
    },
    {
     "data": {
      "text/html": [
       "<div>\n",
       "<style scoped>\n",
       "    .dataframe tbody tr th:only-of-type {\n",
       "        vertical-align: middle;\n",
       "    }\n",
       "\n",
       "    .dataframe tbody tr th {\n",
       "        vertical-align: top;\n",
       "    }\n",
       "\n",
       "    .dataframe thead th {\n",
       "        text-align: right;\n",
       "    }\n",
       "</style>\n",
       "<table border=\"1\" class=\"dataframe\">\n",
       "  <thead>\n",
       "    <tr style=\"text-align: right;\">\n",
       "      <th></th>\n",
       "      <th>Open</th>\n",
       "      <th>High</th>\n",
       "      <th>Low</th>\n",
       "      <th>Close</th>\n",
       "      <th>Adj Close</th>\n",
       "      <th>Volume</th>\n",
       "      <th>UpperB</th>\n",
       "      <th>LowerB</th>\n",
       "      <th>PercentB</th>\n",
       "    </tr>\n",
       "    <tr>\n",
       "      <th>Date</th>\n",
       "      <th></th>\n",
       "      <th></th>\n",
       "      <th></th>\n",
       "      <th></th>\n",
       "      <th></th>\n",
       "      <th></th>\n",
       "      <th></th>\n",
       "      <th></th>\n",
       "      <th></th>\n",
       "    </tr>\n",
       "  </thead>\n",
       "  <tbody>\n",
       "    <tr>\n",
       "      <th>2012-06-27</th>\n",
       "      <td>132.419998</td>\n",
       "      <td>133.429993</td>\n",
       "      <td>131.970001</td>\n",
       "      <td>133.169998</td>\n",
       "      <td>118.980804</td>\n",
       "      <td>108088000</td>\n",
       "      <td>136.447962</td>\n",
       "      <td>128.140042</td>\n",
       "      <td>0.605441</td>\n",
       "    </tr>\n",
       "    <tr>\n",
       "      <th>2012-06-28</th>\n",
       "      <td>132.289993</td>\n",
       "      <td>132.990005</td>\n",
       "      <td>131.279999</td>\n",
       "      <td>132.789993</td>\n",
       "      <td>118.641281</td>\n",
       "      <td>169242100</td>\n",
       "      <td>136.500761</td>\n",
       "      <td>128.219241</td>\n",
       "      <td>0.551922</td>\n",
       "    </tr>\n",
       "    <tr>\n",
       "      <th>2012-06-29</th>\n",
       "      <td>135.199997</td>\n",
       "      <td>136.270004</td>\n",
       "      <td>134.850006</td>\n",
       "      <td>136.100006</td>\n",
       "      <td>121.598610</td>\n",
       "      <td>212250900</td>\n",
       "      <td>136.721010</td>\n",
       "      <td>128.792993</td>\n",
       "      <td>0.921670</td>\n",
       "    </tr>\n",
       "  </tbody>\n",
       "</table>\n",
       "</div>"
      ],
      "text/plain": [
       "                  Open        High         Low       Close   Adj Close  \\\n",
       "Date                                                                     \n",
       "2012-06-27  132.419998  133.429993  131.970001  133.169998  118.980804   \n",
       "2012-06-28  132.289993  132.990005  131.279999  132.789993  118.641281   \n",
       "2012-06-29  135.199997  136.270004  134.850006  136.100006  121.598610   \n",
       "\n",
       "               Volume      UpperB      LowerB  PercentB  \n",
       "Date                                                     \n",
       "2012-06-27  108088000  136.447962  128.140042  0.605441  \n",
       "2012-06-28  169242100  136.500761  128.219241  0.551922  \n",
       "2012-06-29  212250900  136.721010  128.792993  0.921670  "
      ]
     },
     "execution_count": 3,
     "metadata": {},
     "output_type": "execute_result"
    }
   ],
   "source": [
    "idf = pd.read_csv('data/SPY_20110701_20120630_Bollinger.csv',index_col=0,parse_dates=True)\n",
    "idf.shape\n",
    "idf.head(3)\n",
    "idf.tail(3)"
   ]
  },
  {
   "cell_type": "markdown",
   "metadata": {},
   "source": [
    "#### Let's grab 5 months of data from the input data frame:"
   ]
  },
  {
   "cell_type": "code",
   "execution_count": 4,
   "metadata": {},
   "outputs": [],
   "source": [
    "df = idf.loc['2011-07-01':'2011-12-30',:]"
   ]
  },
  {
   "cell_type": "markdown",
   "metadata": {},
   "source": [
    "#### We can, of course, plot a basic ohlc or candlestick plot:"
   ]
  },
  {
   "cell_type": "code",
   "execution_count": 5,
   "metadata": {},
   "outputs": [
    {
     "data": {
      "text/plain": [
       "'0.12.6a5'"
      ]
     },
     "execution_count": 5,
     "metadata": {},
     "output_type": "execute_result"
    },
    {
     "name": "stdout",
     "output_type": "stream",
     "text": [
      "external_axes_mode = False\n",
      "config['ylim']= None\n",
      "config['xlim']= None\n",
      "config['tight_layout']= True\n"
     ]
    },
    {
     "data": {
      "image/png": "[encoded data removed]",
      "text/plain": [
       "<Figure size 600x431.25 with 4 Axes>"
      ]
     },
     "metadata": {},
     "output_type": "display_data"
    }
   ],
   "source": [
    "import mplfinance as mpf\n",
    "mpf.__version__\n",
    "mpf.plot(df,volume=True,tight_layout=True,figscale=0.75)"
   ]
  },
  {
   "cell_type": "markdown",
   "metadata": {},
   "source": [
    "---\n",
    "\n",
    "Basic Introduction to External Axes Mode:\n",
    "---\n",
    "\n",
    "**`mplfinance`** provides a wrapper function to create a **`Figure`:**\n",
    " \n",
    "- [**`mpf.figure()`**](https://matplotlib.org/3.3.0/api/_as_gen/matplotlib.pyplot.figure.html#matplotlib-pyplot-figure)\n",
    "  \n",
    "This function behaves exactly like its matplotlib `pyplot` equivalent, with the added feature that it accepts **`style=`** kwarg, and embeds `mplfinance` style information into the Figure that it creates.\n",
    "\n",
    "Once you have created a Figure, you can call standard matplotlib Figure methods for creating subplot Axes:\n",
    "\n",
    "- [**`fig.add_subplot()`**](https://matplotlib.org/3.3.0/api/_as_gen/matplotlib.figure.Figure.html#matplotlib.figure.Figure.add_subplot)\n",
    "- [**`fig.add_axes()`**](https://matplotlib.org/3.3.0/api/_as_gen/matplotlib.figure.Figure.html#matplotlib.figure.Figure.add_axes)\n",
    "- [**`fig.subplots()`**](https://matplotlib.org/3.3.0/api/_as_gen/matplotlib.figure.Figure.html#matplotlib.figure.Figure.subplots)\n",
    "\n",
    "Regarding the above three Figure methods, if the Figure was created using `mplfinance`, then these methods will apply style information to the Subplot Axes they create, based on the mplfinance style information found inside the Figure. ***Alternatively*** the user may pass **`style=`** into these Figure methods to apply a style to the Subplot Axes that may be different from the style that was applied to the Figure.\n",
    "\n",
    "\n",
    "If you are more familiar with calling `plt.subplot()` or `plt.subplots()`, the **please note that:**\n",
    "- `plt.subplot()` is exactly the same as calling **`fig.add_subplot()`** on the \"current\" Figure, and\n",
    "- `plt.subplots()` is the same as calling **`fig.subplots()`** on the \"current\" Figure.\n"
   ]
  },
  {
   "cell_type": "markdown",
   "metadata": {},
   "source": [
    "---\n",
    "\n",
    "Here is an example of creating a Figure and Axes with a certain style:\n"
   ]
  },
  {
   "cell_type": "code",
   "execution_count": 6,
   "metadata": {},
   "outputs": [],
   "source": [
    "%%capture\n",
    "fig = mpf.figure(style='yahoo',tight_layout=False,figsize=(7,8))\n",
    "ax1 = fig.add_subplot(2,1,1)\n",
    "ax2 = fig.add_subplot(2,1,2)"
   ]
  },
  {
   "cell_type": "code",
   "execution_count": 7,
   "metadata": {},
   "outputs": [
    {
     "name": "stdout",
     "output_type": "stream",
     "text": [
      "external_axes_mode = True\n",
      "config['ylim']= None\n",
      "config['xlim']= None\n",
      "config['tight_layout']= False\n",
      "True all None\n"
     ]
    },
    {
     "data": {
      "image/png": "[encoded data removed]",
      "text/plain": [
       "<Mpf_Figure size 700x800 with 2 Axes>"
      ]
     },
     "execution_count": 7,
     "metadata": {},
     "output_type": "execute_result"
    }
   ],
   "source": [
    "#mpf.plot(df,ax=ax1,volume=ax2,tight_layout=True)\n",
    "mpf.plot(df,ax=ax1,volume=ax2)\n",
    "fig"
   ]
  },
  {
   "cell_type": "code",
   "execution_count": 8,
   "metadata": {},
   "outputs": [
    {
     "ename": "SyntaxError",
     "evalue": "invalid syntax (<ipython-input-8-a6774c8535dd>, line 1)",
     "output_type": "error",
     "traceback": [
      "\u001b[0;36m  File \u001b[0;32m\"<ipython-input-8-a6774c8535dd>\"\u001b[0;36m, line \u001b[0;32m1\u001b[0m\n\u001b[0;31m    STOP HERE\u001b[0m\n\u001b[0m            ^\u001b[0m\n\u001b[0;31mSyntaxError\u001b[0m\u001b[0;31m:\u001b[0m invalid syntax\n"
     ]
    }
   ],
   "source": [
    "STOP HERE"
   ]
  },
  {
   "cell_type": "code",
   "execution_count": null,
   "metadata": {},
   "outputs": [],
   "source": [
    "#mpf.plot(df,scale_padding=1.0,ax=ax,fig=fig,figscale=0.75)\n",
    "mpf.plot(df,scale_padding=1.0,ax=ax,figscale=0.75)"
   ]
  },
  {
   "cell_type": "code",
   "execution_count": null,
   "metadata": {},
   "outputs": [],
   "source": [
    "fig"
   ]
  },
  {
   "cell_type": "code",
   "execution_count": null,
   "metadata": {},
   "outputs": [],
   "source": [
    "mpf.available_styles()"
   ]
  },
  {
   "cell_type": "code",
   "execution_count": null,
   "metadata": {},
   "outputs": [],
   "source": [
    "%%capture\n",
    "#s = mpf._styles._get_mpfstyle('nightclouds')\n",
    "#mpf._styles._apply_mpfstyle(s)\n",
    "\n",
    "#fig, axes = plt.subplots(2,2)\n",
    "fig = plt.figure(figsize=(12,9))"
   ]
  },
  {
   "cell_type": "code",
   "execution_count": null,
   "metadata": {},
   "outputs": [],
   "source": [
    "s = mpf._styles._get_mpfstyle('blueskies')\n",
    "#s\n",
    "mpf._styles._apply_mpfstyle(s)\n",
    "ax1 = fig.add_subplot(2,2,1)\n",
    "\n",
    "s = mpf._styles._get_mpfstyle('yahoo')\n",
    "mpf._styles._apply_mpfstyle(s)\n",
    "ax2 = fig.add_subplot(2,2,2)\n",
    "\n",
    "s = mpf.make_mpf_style(base_mpl_style='fast',base_mpf_style='nightclouds')\n",
    "#s = mpf._styles._get_mpfstyle('nightclouds')\n",
    "mpf._styles._apply_mpfstyle(s)\n",
    "ax3 = fig.add_subplot(2,2,3)\n",
    "\n",
    "s = mpf._styles._get_mpfstyle('starsandstripes')\n",
    "mpf._styles._apply_mpfstyle(s)\n",
    "ax4 = fig.add_subplot(2,2,4)"
   ]
  },
  {
   "cell_type": "code",
   "execution_count": null,
   "metadata": {},
   "outputs": [],
   "source": [
    "# mpf.plot(df,ax=ax1,fig=fig,style='blueskies')\n",
    "# mpf.plot(df,type='candle',ax=ax2,figscale=1.5,fig=fig,style='yahoo')\n",
    "# mpf.plot(df,ax=ax3,fig=fig,style='blueskies',type='candle')\n",
    "# mpf.plot(df,type='candle',ax=ax4,figscale=1.5,fig=fig,style='sas')\n",
    "\n",
    "mpf.plot(df,ax=ax1,style='blueskies')\n",
    "mpf.plot(df,type='candle',ax=ax2,figscale=1.5,style='yahoo')\n",
    "mpf.plot(df,ax=ax3,style='blueskies',type='candle')\n",
    "mpf.plot(df,type='candle',ax=ax4,figscale=1.5,style='sas')"
   ]
  },
  {
   "cell_type": "code",
   "execution_count": null,
   "metadata": {},
   "outputs": [],
   "source": [
    "fig"
   ]
  },
  {
   "cell_type": "code",
   "execution_count": null,
   "metadata": {},
   "outputs": [],
   "source": [
    "prefix = '../../examples/data/'\n",
    "aapl = pd.read_csv(prefix+'yahoofinance-AAPL-20040819-20180120.csv',index_col='Date',parse_dates=True)\n",
    "goog = pd.read_csv(prefix+'yahoofinance-GOOG-20040819-20180120.csv',index_col='Date',parse_dates=True)\n",
    "spy  = pd.read_csv(prefix+'yahoofinance-SPY-20080101-20180101.csv',index_col='Date',parse_dates=True)\n",
    "aapl = aapl.loc['2016-05-01':'2016-07-31']\n",
    "goog = goog.loc['2016-05-01':'2016-07-31']\n",
    "spy = spy.loc['2016-05-01':'2016-07-31']\n",
    "aapl.tail(2)\n",
    "goog.tail(2)\n",
    "spy.tail(2)"
   ]
  },
  {
   "cell_type": "code",
   "execution_count": null,
   "metadata": {},
   "outputs": [],
   "source": [
    "mpf.available_styles()"
   ]
  },
  {
   "cell_type": "code",
   "execution_count": null,
   "metadata": {},
   "outputs": [],
   "source": [
    "sname = 'yahoo'\n",
    "s = mpf._styles._get_mpfstyle(sname)\n",
    "mpf._styles._apply_mpfstyle(s)\n",
    "fig = plt.figure(figsize=(9,6))"
   ]
  },
  {
   "cell_type": "code",
   "execution_count": null,
   "metadata": {},
   "outputs": [],
   "source": [
    "ax1 = fig.add_subplot(2,3,1)\n",
    "ax2 = fig.add_subplot(2,3,2)\n",
    "ax3 = fig.add_subplot(2,3,3)\n",
    "\n",
    "av1 = fig.add_subplot(3,3,7,sharex=ax1)\n",
    "av2 = fig.add_subplot(3,3,8,sharex=ax1)\n",
    "av3 = fig.add_subplot(3,3,9,sharex=ax3)"
   ]
  },
  {
   "cell_type": "code",
   "execution_count": null,
   "metadata": {},
   "outputs": [],
   "source": [
    "mpf.plot(aapl,type='candle',ax=ax1,figratio=(10,5),style=s,volume=av1,mav=(10,20),axtitle='AAPL')\n",
    "mpf.plot(goog,type='candle',ax=ax2,figratio=(10,5),style=s,volume=av2,mav=(10,20),axtitle='GOOG')\n",
    "mpf.plot(spy ,type='candle',ax=ax3,figratio=(10,5),style=s,volume=av3,mav=(10,20),axtitle='SPY',closefig=True)"
   ]
  },
  {
   "cell_type": "code",
   "execution_count": null,
   "metadata": {},
   "outputs": [],
   "source": [
    "%%capture\n",
    "#ax1.set_title('AAPL')\n",
    "#ax2.set_title('GOOG')\n",
    "#ax3.set_title('SPY')\n",
    "#fig.suptitle('This is the Figure Title for the Entire Figure')"
   ]
  },
  {
   "cell_type": "code",
   "execution_count": null,
   "metadata": {},
   "outputs": [],
   "source": [
    "fig"
   ]
  },
  {
   "cell_type": "code",
   "execution_count": null,
   "metadata": {},
   "outputs": [],
   "source": [
    "plt.close(None)"
   ]
  },
  {
   "cell_type": "code",
   "execution_count": null,
   "metadata": {},
   "outputs": [],
   "source": []
  },
  {
   "cell_type": "code",
   "execution_count": null,
   "metadata": {},
   "outputs": [],
   "source": [
    "ap = mpf.make_addplot(spy,type='ohlc')\n",
    "mpf.plot(aapl,type='candle',style='yahoo',addplot=ap)"
   ]
  },
  {
   "cell_type": "code",
   "execution_count": null,
   "metadata": {},
   "outputs": [],
   "source": [
    "%%capture\n",
    "plt.style.use('seaborn')\n",
    "fig, ax = plt.subplots()\n",
    "plt.rcParams.update({'axes.grid':False})\n",
    "ax2 = ax.twinx()\n",
    "mpf.plot(spy,ax=ax,type='ohlc',style='default')\n",
    "mpf.plot(aapl,ax=ax2,type='candle',style='yahoo')"
   ]
  },
  {
   "cell_type": "code",
   "execution_count": null,
   "metadata": {},
   "outputs": [],
   "source": [
    "fig"
   ]
  },
  {
   "cell_type": "code",
   "execution_count": null,
   "metadata": {},
   "outputs": [],
   "source": []
  },
  {
   "cell_type": "code",
   "execution_count": null,
   "metadata": {},
   "outputs": [],
   "source": [
    "fig = mpf.figure(style='blueskies',figsize=(12,10))#,figsize=(10,10))"
   ]
  },
  {
   "cell_type": "code",
   "execution_count": null,
   "metadata": {},
   "outputs": [],
   "source": [
    "s = mpf.make_mpf_style(base_mpl_style='fast',base_mpf_style='nightclouds')\n",
    "ax1 = mpf.add_subplot(2,2,1,fig=fig,style='blueskies')\n",
    "ax2 = mpf.add_subplot(2,2,2,fig=fig,style='yahoo')\n",
    "ax3 = mpf.add_subplot(2,2,3,fig=fig,style=s)\n",
    "ax4 = mpf.add_subplot(2,2,4,fig=fig,style='starsandstripes')\n",
    "\n",
    "\n",
    "# ax1 = mpf.add_subplot(fig,2,2,1,style='blueskies')\n",
    "# ax2 = mpf.add_subplot(fig,2,2,2,style='yahoo')\n",
    "# ax3 = mpf.add_subplot(fig,2,2,3,style=s)\n",
    "# ax4 = mpf.add_subplot(fig,2,2,4,style='starsandstripes')"
   ]
  },
  {
   "cell_type": "code",
   "execution_count": null,
   "metadata": {},
   "outputs": [],
   "source": [
    "#mpf.plot(df,ax=ax1,fig=fig,type='ohlc',xrotation=25)\n",
    "#mpf.plot(df,ax=ax2,fig=fig,type='candle',xrotation=25)\n",
    "#mpf.plot(df,ax=ax3,fig=fig,type='candle',xrotation=25)\n",
    "#mpf.plot(df,ax=ax4,fig=fig,type='candle',xrotation=25,figscale=1.75)\n",
    "\n",
    "mpf.plot(df,ax=ax1,type='ohlc',xrotation=25)\n",
    "mpf.plot(df,ax=ax2,type='candle',xrotation=25)\n",
    "mpf.plot(df,ax=ax3,type='candle',xrotation=25)\n",
    "mpf.plot(df,ax=ax4,type='candle',xrotation=25,figscale=1.75)\n",
    "\n",
    "dum = ax1.set_title('blueskies')\n",
    "dum = ax2.set_title('yahoo')\n",
    "dum = ax3.set_title('nightclouds')\n",
    "dum = ax4.set_title('starsandstripes')"
   ]
  },
  {
   "cell_type": "code",
   "execution_count": null,
   "metadata": {},
   "outputs": [],
   "source": [
    "fig"
   ]
  },
  {
   "cell_type": "code",
   "execution_count": null,
   "metadata": {},
   "outputs": [],
   "source": []
  },
  {
   "cell_type": "code",
   "execution_count": null,
   "metadata": {},
   "outputs": [],
   "source": []
  }
 ],
 "metadata": {
  "kernelspec": {
   "display_name": "Python 3",
   "language": "python",
   "name": "python3"
  },
  "language_info": {
   "codemirror_mode": {
    "name": "ipython",
    "version": 3
   },
   "file_extension": ".py",
   "mimetype": "text/x-python",
   "name": "python",
   "nbconvert_exporter": "python",
   "pygments_lexer": "ipython3",
   "version": "3.7.4"
  }
 },
 "nbformat": 4,
 "nbformat_minor": 2
}
